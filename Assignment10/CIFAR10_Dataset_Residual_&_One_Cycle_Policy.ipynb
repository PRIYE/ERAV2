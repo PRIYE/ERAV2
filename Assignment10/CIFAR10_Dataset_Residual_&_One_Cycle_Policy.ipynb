{
  "cells": [
    {
      "cell_type": "code",
      "source": [
        "#!pip install albumentations==0.4.6"
      ],
      "metadata": {
        "id": "Zc-ZfGuuwN90"
      },
      "execution_count": null,
      "outputs": []
    },
    {
      "cell_type": "code",
      "source": [
        "!pip install --quiet torch_lr_finder"
      ],
      "metadata": {
        "id": "lN54Xqwd4fr6"
      },
      "execution_count": 1,
      "outputs": []
    },
    {
      "cell_type": "code",
      "execution_count": 2,
      "metadata": {
        "id": "0m2JWFliFfKT"
      },
      "outputs": [],
      "source": [
        "from __future__ import print_function\n",
        "import torch\n",
        "import torch.nn as nn\n",
        "import torch.nn.functional as F\n",
        "import torch.optim as optim\n",
        "from torchvision import datasets, transforms\n",
        "from torch.optim.lr_scheduler import StepLR, OneCycleLR\n",
        "import albumentations as A\n",
        "from albumentations.pytorch import ToTensorV2\n",
        "\n",
        "import os\n",
        "os.environ['KMP_DUPLICATE_LIB_OK']='True'\n",
        "import cv2\n",
        "cv2.setNumThreads(0)\n",
        "cv2.ocl.setUseOpenCL(False)"
      ]
    },
    {
      "cell_type": "code",
      "execution_count": 3,
      "metadata": {
        "id": "FDI0WC3dRr3d",
        "colab": {
          "base_uri": "https://localhost:8080/"
        },
        "outputId": "44fc2adb-450f-4900-f7f8-c9ea22c5d293"
      },
      "outputs": [
        {
          "output_type": "stream",
          "name": "stdout",
          "text": [
            "Mounted at /content/drive\n"
          ]
        }
      ],
      "source": [
        "from google.colab import drive\n",
        "drive.mount('/content/drive')"
      ]
    },
    {
      "cell_type": "code",
      "source": [
        "!git clone https://github.com/PRIYE/CNN_model_repo.git"
      ],
      "metadata": {
        "colab": {
          "base_uri": "https://localhost:8080/"
        },
        "id": "Lf6rx2JLi0f7",
        "outputId": "19f9f990-33ce-44f1-a8ce-fcef8198bf1d"
      },
      "execution_count": 5,
      "outputs": [
        {
          "output_type": "stream",
          "name": "stdout",
          "text": [
            "Cloning into 'CNN_model_repo'...\n",
            "remote: Enumerating objects: 16, done.\u001b[K\n",
            "remote: Counting objects: 100% (16/16), done.\u001b[K\n",
            "remote: Compressing objects: 100% (15/15), done.\u001b[K\n",
            "remote: Total 16 (delta 5), reused 0 (delta 0), pack-reused 0\u001b[K\n",
            "Receiving objects: 100% (16/16), 8.75 KiB | 8.75 MiB/s, done.\n",
            "Resolving deltas: 100% (5/5), done.\n"
          ]
        }
      ]
    },
    {
      "cell_type": "code",
      "source": [
        "from CNN_model_repo.custom_resnet import Custom_Res_Net"
      ],
      "metadata": {
        "id": "oW4aRTnjkC5Y"
      },
      "execution_count": 7,
      "outputs": []
    },
    {
      "cell_type": "code",
      "execution_count": 4,
      "metadata": {
        "colab": {
          "base_uri": "https://localhost:8080/"
        },
        "id": "BAr9TCoO_eU9",
        "outputId": "2df29b59-8334-41af-85e1-3c13d556e05b"
      },
      "outputs": [
        {
          "output_type": "stream",
          "name": "stdout",
          "text": [
            "CUDA Available? True Albumentations version 1.3.1\n"
          ]
        }
      ],
      "source": [
        "# CUDA?\n",
        "cuda = torch.cuda.is_available()\n",
        "print(\"CUDA Available?\", cuda, 'Albumentations version', A.__version__)"
      ]
    },
    {
      "cell_type": "code",
      "source": [
        "from model import Dilated_Net\n",
        "from utils import plot_performance"
      ],
      "metadata": {
        "id": "KU3LKD3lRzS3"
      },
      "execution_count": null,
      "outputs": []
    },
    {
      "cell_type": "code",
      "execution_count": null,
      "metadata": {
        "id": "nkdpZXOsAeWW"
      },
      "outputs": [],
      "source": [
        "# Train Phase transformations\n",
        "train_transforms = A.Compose([\n",
        "                      A.PadIfNeeded(min_height=40, min_width=40, always_apply=True),\n",
        "                      A.RandomCrop(height=32, width=32, always_apply=True),\n",
        "                      A.HorizontalFlip(p=0.5),\n",
        "                      #A.ShiftScaleRotate(shift_limit=0.05, scale_limit=0.05, rotate_limit=15, p=0.5),\n",
        "                      A.CoarseDropout(max_holes = 1, max_height=8, max_width=8, min_holes = 1, min_height=8, min_width=8\n",
        "                                      , fill_value=(0.49139968, 0.48215841, 0.44653091),mask_fill_value = None),\n",
        "                      #A.ColorJitter(brightness=0.10, contrast=0.1, saturation=0.10, hue=0.1, p=0.2),\n",
        "                      A.Normalize((0.49139968, 0.48215841, 0.44653091), (0.24703223, 0.24348513, 0.26158784)),\n",
        "                      ToTensorV2()\n",
        "                              ])\n",
        "\n",
        "# Test Phase transformations\n",
        "test_transforms = A.Compose([\n",
        "                    A.Normalize((0.49139968, 0.48215841, 0.44653091), (0.24703223, 0.24348513, 0.26158784)),\n",
        "                    ToTensorV2()\n",
        "                          ])"
      ]
    },
    {
      "cell_type": "code",
      "source": [
        "class Albumentations_CIFAR10(datasets.CIFAR10):\n",
        "  def __init__(self, root=\"../data\", train=True, download=True, transform=None):\n",
        "    super().__init__( root=root, train=train, download=download, transform=transform)\n",
        "\n",
        "  def __getitem__(self, index):\n",
        "    image, label = self.data[index], self.targets[index]\n",
        "\n",
        "    if self.transform is not None:\n",
        "      transformed = self.transform(image=image)\n",
        "      image = transformed[\"image\"]\n",
        "    return image, label"
      ],
      "metadata": {
        "id": "3AGqxVUwmEY_"
      },
      "execution_count": null,
      "outputs": []
    },
    {
      "cell_type": "code",
      "execution_count": null,
      "metadata": {
        "colab": {
          "base_uri": "https://localhost:8080/"
        },
        "id": "L46SFApHAiy9",
        "outputId": "e55a1cd8-d67d-46a3-9469-b4a78e3f6a51"
      },
      "outputs": [
        {
          "output_type": "stream",
          "name": "stdout",
          "text": [
            "Files already downloaded and verified\n",
            "Files already downloaded and verified\n"
          ]
        }
      ],
      "source": [
        "train = Albumentations_CIFAR10('../data', train=True, download=True, transform=train_transforms)\n",
        "test = Albumentations_CIFAR10('../data', train=False, download=True, transform=test_transforms)\n",
        "classes = ('plane', 'car', 'bird', 'cat',\n",
        "           'deer', 'dog', 'frog', 'horse', 'ship', 'truck')"
      ]
    },
    {
      "cell_type": "code",
      "execution_count": null,
      "metadata": {
        "colab": {
          "base_uri": "https://localhost:8080/"
        },
        "id": "URzT2k3mpM-V",
        "outputId": "2af24270-c63e-4cdd-fdb4-ce3e619abd23"
      },
      "outputs": [
        {
          "output_type": "stream",
          "name": "stdout",
          "text": [
            "CUDA Available? True\n"
          ]
        },
        {
          "output_type": "stream",
          "name": "stderr",
          "text": [
            "/usr/local/lib/python3.10/dist-packages/torch/utils/data/dataloader.py:558: UserWarning: This DataLoader will create 4 worker processes in total. Our suggested max number of worker in current system is 2, which is smaller than what this DataLoader is going to create. Please be aware that excessive worker creation might get DataLoader running slow or even freeze, lower the worker number to avoid potential slowness/freeze if necessary.\n",
            "  warnings.warn(_create_warning_msg(\n"
          ]
        }
      ],
      "source": [
        "SEED = 1\n",
        "\n",
        "# CUDA?\n",
        "cuda = torch.cuda.is_available()\n",
        "print(\"CUDA Available?\", cuda)\n",
        "\n",
        "# For reproducibility\n",
        "torch.manual_seed(SEED)\n",
        "\n",
        "if cuda:\n",
        "    torch.cuda.manual_seed(SEED)\n",
        "\n",
        "# dataloader arguments - something you'll fetch these from cmdprmt\n",
        "dataloader_args = dict(shuffle=True, batch_size=512, num_workers=4, pin_memory=True) if cuda else dict(shuffle=True, batch_size=64)\n",
        "\n",
        "# train dataloader\n",
        "train_loader = torch.utils.data.DataLoader(train, **dataloader_args)\n",
        "\n",
        "# test dataloader\n",
        "test_loader = torch.utils.data.DataLoader(test, **dataloader_args)"
      ]
    },
    {
      "cell_type": "code",
      "execution_count": null,
      "metadata": {
        "colab": {
          "base_uri": "https://localhost:8080/"
        },
        "id": "kulBqYHFuU_R",
        "outputId": "e78dcd30-013d-4973-88cb-e38eb8b6f408"
      },
      "outputs": [
        {
          "output_type": "stream",
          "name": "stdout",
          "text": [
            "[Train]\n",
            " - Numpy Shape: (50000, 32, 32, 3)\n",
            " - Tensor Shape: torch.Size([50000, 32, 32, 3])\n",
            " - min: tensor(0., dtype=torch.float64)\n",
            " - max: tensor(1., dtype=torch.float64)\n",
            " - mean: [0.49139968 0.48215841 0.44653091]\n",
            " - std: [0.24703223 0.24348513 0.26158784]\n"
          ]
        },
        {
          "output_type": "stream",
          "name": "stderr",
          "text": [
            "/usr/lib/python3.10/multiprocessing/popen_fork.py:66: RuntimeWarning: os.fork() was called. os.fork() is incompatible with multithreaded code, and JAX is multithreaded, so this will likely lead to a deadlock.\n",
            "  self.pid = os.fork()\n"
          ]
        },
        {
          "output_type": "stream",
          "name": "stdout",
          "text": [
            "torch.Size([512, 3, 32, 32])\n",
            "torch.Size([512])\n"
          ]
        }
      ],
      "source": [
        "# We'd need to convert it into Numpy! Remember above we have converted it into tensors already\n",
        "#train_data = train.train_data\n",
        "train_data = train.data/255\n",
        "\n",
        "print('[Train]')\n",
        "print(' - Numpy Shape:', train.data.shape)\n",
        "print(' - Tensor Shape:', torch.tensor(train.data).size())\n",
        "print(' - min:', torch.min(torch.tensor(train_data)))\n",
        "print(' - max:', torch.max(torch.tensor(train_data)))\n",
        "print(' - mean:', train_data.mean(axis = (0,1,2)))\n",
        "print(' - std:', train_data.std(axis = (0,1,2)))\n",
        "\n",
        "dataiter = iter(train_loader)\n",
        "images, labels = next(dataiter)\n",
        "\n",
        "print(images.shape)\n",
        "print(labels.shape)\n"
      ]
    },
    {
      "cell_type": "code",
      "source": [
        "import matplotlib.pyplot as plt\n",
        "import numpy as np\n",
        "batch_data, batch_label = next(iter(train_loader))\n",
        "fig = plt.figure()\n",
        "classes = ('plane', 'car', 'bird', 'cat',\n",
        "           'deer', 'dog', 'frog', 'horse', 'ship', 'truck')\n",
        "for i in range(12):\n",
        "    plt.subplot(3,4,i+1)\n",
        "    plt.tight_layout()\n",
        "    plt.imshow(np.transpose(batch_data[i].numpy(), (2, 1, 0)), cmap='gray')\n",
        "    plt.title(f'{classes[batch_label[i].item()]}')\n",
        "    plt.xticks([])\n",
        "    plt.yticks([])\n",
        "plt.show()"
      ],
      "metadata": {
        "colab": {
          "base_uri": "https://localhost:8080/",
          "height": 677
        },
        "id": "MHvxN6LmxIOg",
        "outputId": "85c31909-69c7-49c6-93f3-526a3feba900"
      },
      "execution_count": null,
      "outputs": [
        {
          "output_type": "stream",
          "name": "stderr",
          "text": [
            "WARNING:matplotlib.image:Clipping input data to the valid range for imshow with RGB data ([0..1] for floats or [0..255] for integers).\n",
            "WARNING:matplotlib.image:Clipping input data to the valid range for imshow with RGB data ([0..1] for floats or [0..255] for integers).\n",
            "WARNING:matplotlib.image:Clipping input data to the valid range for imshow with RGB data ([0..1] for floats or [0..255] for integers).\n",
            "WARNING:matplotlib.image:Clipping input data to the valid range for imshow with RGB data ([0..1] for floats or [0..255] for integers).\n",
            "WARNING:matplotlib.image:Clipping input data to the valid range for imshow with RGB data ([0..1] for floats or [0..255] for integers).\n",
            "WARNING:matplotlib.image:Clipping input data to the valid range for imshow with RGB data ([0..1] for floats or [0..255] for integers).\n",
            "WARNING:matplotlib.image:Clipping input data to the valid range for imshow with RGB data ([0..1] for floats or [0..255] for integers).\n",
            "WARNING:matplotlib.image:Clipping input data to the valid range for imshow with RGB data ([0..1] for floats or [0..255] for integers).\n",
            "WARNING:matplotlib.image:Clipping input data to the valid range for imshow with RGB data ([0..1] for floats or [0..255] for integers).\n",
            "WARNING:matplotlib.image:Clipping input data to the valid range for imshow with RGB data ([0..1] for floats or [0..255] for integers).\n",
            "WARNING:matplotlib.image:Clipping input data to the valid range for imshow with RGB data ([0..1] for floats or [0..255] for integers).\n",
            "WARNING:matplotlib.image:Clipping input data to the valid range for imshow with RGB data ([0..1] for floats or [0..255] for integers).\n"
          ]
        },
        {
          "output_type": "display_data",
          "data": {
            "text/plain": [
              "<Figure size 640x480 with 12 Axes>"
            ],
            "image/png": "[encoded data removed]"
          },
          "metadata": {}
        }
      ]
    },
    {
      "cell_type": "code",
      "source": [
        "def calc_activation_shape(dim, ksize, dilation=(1, 1), stride=(1, 1), padding=(0, 0)):\n",
        "  def shape_each_dim(i):\n",
        "    odim_i = dim[i] + 2 * padding[i] - dilation[i] * (ksize[i] - 1) - 1\n",
        "    return (odim_i / stride[i]) + 1\n",
        "  return shape_each_dim(0), shape_each_dim(1)\n",
        "\n",
        "def calc_receptive_field(Rin,ksize, stride, Jin, dilation=1):\n",
        "    new_k = dilation*(ksize - 1) + 1\n",
        "    #if dilation>1:\n",
        "    Jnew = Jin*stride\n",
        "    #else:\n",
        "    #Jnew = stride*Jin\n",
        "    return Rin + (new_k-1)*Jin, Jnew"
      ],
      "metadata": {
        "id": "yyKxcUN59BV0"
      },
      "execution_count": null,
      "outputs": []
    },
    {
      "cell_type": "code",
      "source": [
        "print('******** prep 1 **********')\n",
        "output_channel_size = calc_activation_shape(dim=(32,32), ksize=(3,3), dilation=(1, 1), stride=(1, 1), padding=(1, 1))\n",
        "print(f'Output Channel size {output_channel_size}')\n",
        "output_receptive_field, Jnew = calc_receptive_field(Rin=1 ,ksize=3, stride=1, Jin=1, dilation=1)\n",
        "print('Receptive Field', output_receptive_field)\n",
        "\n",
        "print('******** Layer 1 **********', f'Jin {Jnew}')\n",
        "\n",
        "output_channel_size = calc_activation_shape(dim=output_channel_size, ksize=(3,3), dilation=(1, 1), stride=(1, 1), padding=(1, 1))\n",
        "print(f'Output Channel size {output_channel_size}')\n",
        "output_receptive_field, Jnew = calc_receptive_field(Rin=output_receptive_field ,ksize=3, stride=1,Jin=Jnew, dilation=1)\n",
        "print('Receptive Field', output_receptive_field)\n",
        "\n",
        "output_channel_size = calc_activation_shape(dim=output_channel_size, ksize=(2,2), dilation=(1, 1), stride=(2, 2), padding=(1, 1))\n",
        "print(f'Output Channel size {output_channel_size}')\n",
        "output_receptive_field, Jnew = calc_receptive_field(Rin=output_receptive_field ,ksize=2, stride=2, Jin=Jnew, dilation=1)\n",
        "print('Receptive Field', output_receptive_field)\n",
        "\n",
        "print('******** Res 1 **********', f'Jin {Jnew}')\n",
        "output_channel_size = calc_activation_shape(dim=output_channel_size, ksize=(3,3), dilation=(1, 1), stride=(1, 1), padding=(1, 1))\n",
        "print(f'Output Channel size {output_channel_size}')\n",
        "output_receptive_field, Jnew = calc_receptive_field(Rin=output_receptive_field ,ksize=3, stride=1,Jin=Jnew, dilation=1)\n",
        "print('Receptive Field', output_receptive_field)\n",
        "\n",
        "output_channel_size = calc_activation_shape(dim=output_channel_size, ksize=(3,3), dilation=(1, 1), stride=(1, 1), padding=(1, 1))\n",
        "print(f'Output Channel size {output_channel_size}')\n",
        "output_receptive_field, Jnew = calc_receptive_field(Rin=output_receptive_field ,ksize=3, stride=1,Jin=Jnew, dilation=1)\n",
        "print('Receptive Field', output_receptive_field)\n",
        "\n",
        "print('******** Layer 2 **********', f'Jin {Jnew}')\n",
        "output_channel_size = calc_activation_shape(dim=output_channel_size, ksize=(3,3), dilation=(1, 1), stride=(1, 1), padding=(1, 1))\n",
        "print(f'Output Channel size {output_channel_size}')\n",
        "output_receptive_field, Jnew = calc_receptive_field(Rin=output_receptive_field ,ksize=3, stride=1, Jin=Jnew, dilation=1)\n",
        "print('Receptive Field', output_receptive_field)\n",
        "\n",
        "output_channel_size = calc_activation_shape(dim=output_channel_size, ksize=(2,2), dilation=(1, 1), stride=(2, 2), padding=(1, 1))\n",
        "print(f'Output Channel size {output_channel_size}')\n",
        "output_receptive_field, Jnew = calc_receptive_field(Rin=output_receptive_field ,ksize=2, stride=2, Jin=Jnew, dilation=1)\n",
        "print('Receptive Field', output_receptive_field)\n",
        "\n",
        "print('******** Layer 3 **********', f'Jin {Jnew}')\n",
        "output_channel_size = calc_activation_shape(dim=output_channel_size, ksize=(3,3), dilation=(1, 1), stride=(1, 1), padding=(1, 1))\n",
        "print(f'Output Channel size {output_channel_size}')\n",
        "output_receptive_field, Jnew = calc_receptive_field(Rin=output_receptive_field ,ksize=3, stride=1, Jin=Jnew, dilation=1)\n",
        "print('Receptive Field', output_receptive_field)\n",
        "\n",
        "output_channel_size = calc_activation_shape(dim=output_channel_size, ksize=(2,2), dilation=(1, 1), stride=(2, 2), padding=(1, 1))\n",
        "print(f'Output Channel size {output_channel_size}')\n",
        "output_receptive_field, Jnew = calc_receptive_field(Rin=output_receptive_field ,ksize=2, stride=2, Jin=Jnew, dilation=1)\n",
        "print('Receptive Field', output_receptive_field)\n",
        "\n",
        "print('******** Res 2 **********', f'Jin {Jnew}')\n",
        "output_channel_size = calc_activation_shape(dim=output_channel_size, ksize=(3,3), dilation=(1, 1), stride=(1, 1), padding=(1, 1))\n",
        "print(f'Output Channel size {output_channel_size}')\n",
        "output_receptive_field, Jnew = calc_receptive_field(Rin=output_receptive_field ,ksize=3, stride=1,Jin=Jnew, dilation=1)\n",
        "print('Receptive Field', output_receptive_field)\n",
        "\n",
        "output_channel_size = calc_activation_shape(dim=output_channel_size, ksize=(3,3), dilation=(1, 1), stride=(1, 1), padding=(1, 1))\n",
        "print(f'Output Channel size {output_channel_size}')\n",
        "output_receptive_field, Jnew = calc_receptive_field(Rin=output_receptive_field ,ksize=3, stride=1,Jin=Jnew, dilation=1)\n",
        "print('Receptive Field', output_receptive_field)\n",
        "\n",
        "print('******** Layer 4 **********', f'Jin {Jnew}')\n",
        "output_channel_size = calc_activation_shape(dim=output_channel_size, ksize=(4,4), dilation=(1, 1), stride=(4, 4), padding=(1, 1))\n",
        "print(f'Output Channel size {output_channel_size}')\n",
        "output_receptive_field, Jnew = calc_receptive_field(Rin=output_receptive_field ,ksize=4, stride=4,Jin=Jnew, dilation=1)\n",
        "print('Receptive Field', output_receptive_field)\n",
        "\n"
      ],
      "metadata": {
        "colab": {
          "base_uri": "https://localhost:8080/"
        },
        "id": "AS84Ja4S9Wf5",
        "outputId": "eeeefe1f-4c61-442b-ce8d-a0288d727305"
      },
      "execution_count": null,
      "outputs": [
        {
          "output_type": "stream",
          "name": "stdout",
          "text": [
            "******** prep 1 **********\n",
            "Output Channel size (32.0, 32.0)\n",
            "Receptive Field 3\n",
            "******** Layer 1 ********** Jin 1\n",
            "Output Channel size (32.0, 32.0)\n",
            "Receptive Field 5\n",
            "Output Channel size (17.0, 17.0)\n",
            "Receptive Field 6\n",
            "******** Res 1 ********** Jin 2\n",
            "Output Channel size (17.0, 17.0)\n",
            "Receptive Field 10\n",
            "Output Channel size (17.0, 17.0)\n",
            "Receptive Field 14\n",
            "******** Layer 2 ********** Jin 2\n",
            "Output Channel size (17.0, 17.0)\n",
            "Receptive Field 18\n",
            "Output Channel size (9.5, 9.5)\n",
            "Receptive Field 20\n",
            "******** Layer 3 ********** Jin 4\n",
            "Output Channel size (9.5, 9.5)\n",
            "Receptive Field 28\n",
            "Output Channel size (5.75, 5.75)\n",
            "Receptive Field 32\n",
            "******** Res 2 ********** Jin 8\n",
            "Output Channel size (5.75, 5.75)\n",
            "Receptive Field 48\n",
            "Output Channel size (5.75, 5.75)\n",
            "Receptive Field 64\n",
            "******** Layer 4 ********** Jin 8\n",
            "Output Channel size (1.9375, 1.9375)\n",
            "Receptive Field 88\n"
          ]
        }
      ]
    },
    {
      "cell_type": "code",
      "execution_count": null,
      "metadata": {
        "colab": {
          "base_uri": "https://localhost:8080/"
        },
        "id": "xdydjYTZFyi3",
        "outputId": "79dc1267-89e5-49d8-9d11-547dffae5fcc"
      },
      "outputs": [
        {
          "output_type": "stream",
          "name": "stdout",
          "text": [
            "Requirement already satisfied: torchsummary in /usr/local/lib/python3.10/dist-packages (1.5.1)\n",
            "----------------------------------------------------------------\n",
            "        Layer (type)               Output Shape         Param #\n",
            "================================================================\n",
            "            Conv2d-1           [-1, 64, 32, 32]           1,728\n",
            "       BatchNorm2d-2           [-1, 64, 32, 32]             128\n",
            "              ReLU-3           [-1, 64, 32, 32]               0\n",
            "           Dropout-4           [-1, 64, 32, 32]               0\n",
            "            Conv2d-5          [-1, 128, 32, 32]          73,728\n",
            "         MaxPool2d-6          [-1, 128, 16, 16]               0\n",
            "       BatchNorm2d-7          [-1, 128, 16, 16]             256\n",
            "              ReLU-8          [-1, 128, 16, 16]               0\n",
            "           Dropout-9          [-1, 128, 16, 16]               0\n",
            "           Conv2d-10          [-1, 128, 16, 16]         147,456\n",
            "      BatchNorm2d-11          [-1, 128, 16, 16]             256\n",
            "             ReLU-12          [-1, 128, 16, 16]               0\n",
            "          Dropout-13          [-1, 128, 16, 16]               0\n",
            "           Conv2d-14          [-1, 128, 16, 16]         147,456\n",
            "      BatchNorm2d-15          [-1, 128, 16, 16]             256\n",
            "             ReLU-16          [-1, 128, 16, 16]               0\n",
            "          Dropout-17          [-1, 128, 16, 16]               0\n",
            "           Conv2d-18          [-1, 256, 16, 16]         294,912\n",
            "      BatchNorm2d-19          [-1, 256, 16, 16]             512\n",
            "             ReLU-20          [-1, 256, 16, 16]               0\n",
            "          Dropout-21          [-1, 256, 16, 16]               0\n",
            "        MaxPool2d-22            [-1, 256, 8, 8]               0\n",
            "      BatchNorm2d-23            [-1, 256, 8, 8]             512\n",
            "             ReLU-24            [-1, 256, 8, 8]               0\n",
            "          Dropout-25            [-1, 256, 8, 8]               0\n",
            "           Conv2d-26            [-1, 512, 8, 8]       1,179,648\n",
            "        MaxPool2d-27            [-1, 512, 4, 4]               0\n",
            "      BatchNorm2d-28            [-1, 512, 4, 4]           1,024\n",
            "             ReLU-29            [-1, 512, 4, 4]               0\n",
            "          Dropout-30            [-1, 512, 4, 4]               0\n",
            "           Conv2d-31            [-1, 512, 4, 4]       2,359,296\n",
            "      BatchNorm2d-32            [-1, 512, 4, 4]           1,024\n",
            "             ReLU-33            [-1, 512, 4, 4]               0\n",
            "          Dropout-34            [-1, 512, 4, 4]               0\n",
            "           Conv2d-35            [-1, 512, 4, 4]       2,359,296\n",
            "      BatchNorm2d-36            [-1, 512, 4, 4]           1,024\n",
            "             ReLU-37            [-1, 512, 4, 4]               0\n",
            "          Dropout-38            [-1, 512, 4, 4]               0\n",
            "        MaxPool2d-39            [-1, 512, 1, 1]               0\n",
            "           Conv2d-40             [-1, 10, 1, 1]           5,120\n",
            "================================================================\n",
            "Total params: 6,573,632\n",
            "Trainable params: 6,573,632\n",
            "Non-trainable params: 0\n",
            "----------------------------------------------------------------\n",
            "Input size (MB): 0.01\n",
            "Forward/backward pass size (MB): 9.50\n",
            "Params size (MB): 25.08\n",
            "Estimated Total Size (MB): 34.59\n",
            "----------------------------------------------------------------\n"
          ]
        }
      ],
      "source": [
        "!pip install torchsummary\n",
        "from torchsummary import summary\n",
        "use_cuda = torch.cuda.is_available()\n",
        "device = torch.device(\"cuda\" if use_cuda else \"cpu\")\n",
        "model = Custom_Res_Net().to(device)\n",
        "summary(model, input_size=(3, 32, 32))"
      ]
    },
    {
      "cell_type": "code",
      "source": [
        "from torch_lr_finder import LRFinder\n",
        "model = Custom_Res_Net().to(device)\n",
        "optimizer_lr = optim.Adam(model.parameters(), lr=0.00005, weight_decay=1e-4)\n",
        "criterion = nn.CrossEntropyLoss()\n",
        "lr_finder = LRFinder(model, optimizer_lr, criterion, device=\"cuda\")\n",
        "lr_finder.range_test(train_loader, end_lr=1, num_iter=200, step_mode=\"exp\")\n",
        "lr_finder.plot()\n",
        "lr_finder.reset()"
      ],
      "metadata": {
        "colab": {
          "base_uri": "https://localhost:8080/",
          "height": 540,
          "referenced_widgets": [
            "765a6dd569d544b599468db1d247503b",
            "35e68d279d7b44ab848e747eaa3feb72",
            "be615f65bec84d4c82994373c00f8b5d",
            "14c835e9df80423d88a166d698bc488d",
            "2ec22148258d4651bf9dbbd4b75de569",
            "4d94aa0852c544fb99b4124348fa4d1b",
            "74532c684f8e4598ab9a6e0367c21141",
            "9849df2778ea412ea415f9573ed1d643",
            "6befe7bba7c24725be699b8e1f95852b",
            "ce87a04afd8b445992b4c516028eb838",
            "ef7a0bafe71742e7bdf87a7dd18df6af"
          ]
        },
        "id": "hz4PTKIU3rjR",
        "outputId": "35eb8820-97e4-45b4-cf36-7f17a39020ab"
      },
      "execution_count": null,
      "outputs": [
        {
          "output_type": "display_data",
          "data": {
            "text/plain": [
              "  0%|          | 0/200 [00:00<?, ?it/s]"
            ],
            "application/vnd.jupyter.widget-view+json": {
              "version_major": 2,
              "version_minor": 0,
              "model_id": "765a6dd569d544b599468db1d247503b"
            }
          },
          "metadata": {}
        },
        {
          "output_type": "stream",
          "name": "stdout",
          "text": [
            "Learning rate search finished. See the graph with {finder_name}.plot()\n",
            "LR suggestion: steepest gradient\n",
            "Suggested LR: 8.64E-05\n"
          ]
        },
        {
          "output_type": "display_data",
          "data": {
            "text/plain": [
              "<Figure size 640x480 with 1 Axes>"
            ],
            "image/png": "[encoded data removed]"
          },
          "metadata": {}
        }
      ]
    },
    {
      "cell_type": "code",
      "source": [
        "print(f\"Lowest loss is at LR : {lr_finder.history['lr'][np.argmin(lr_finder.history['loss'])]}\")\n",
        "print(f\"The LR which has sharpest downward slope is : {float(8.22E-05):.15f}\")"
      ],
      "metadata": {
        "colab": {
          "base_uri": "https://localhost:8080/"
        },
        "id": "EO_l_xjbG_5O",
        "outputId": "1e4b54fb-605d-4ea2-801f-f0fbb3032a59"
      },
      "execution_count": null,
      "outputs": [
        {
          "output_type": "stream",
          "name": "stdout",
          "text": [
            "Lowest loss is at LR : 0.009297318105416816\n",
            "The LR which has sharpest downward slope is : 0.000082200000000\n"
          ]
        }
      ]
    },
    {
      "cell_type": "code",
      "execution_count": null,
      "metadata": {
        "id": "8fDefDhaFlwH"
      },
      "outputs": [],
      "source": [
        "from tqdm import tqdm\n",
        "\n",
        "train_losses = []\n",
        "test_losses = []\n",
        "train_acc = []\n",
        "test_acc = []\n",
        "\n",
        "def train(model, device, train_loader, optimizer, criterion, epoch):\n",
        "  model.train()\n",
        "  pbar = tqdm(train_loader)\n",
        "\n",
        "  train_loss = 0\n",
        "  correct = 0\n",
        "  processed = 0\n",
        "\n",
        "  for batch_idx, (data, target) in enumerate(pbar):\n",
        "    data, target = data.to(device), target.to(device)\n",
        "    optimizer.zero_grad()\n",
        "\n",
        "    # Predict\n",
        "    y_pred = model(data)\n",
        "\n",
        "    # Calculate loss\n",
        "    loss = criterion(y_pred, target)\n",
        "    train_loss+=loss.item()\n",
        "\n",
        "    # Backpropagation\n",
        "    loss.backward()\n",
        "    optimizer.step()\n",
        "\n",
        "    # Update pbar-tqdm\n",
        "\n",
        "    pred = y_pred.argmax(dim=1, keepdim=True)  # get the index of the max log-probability\n",
        "    correct += pred.eq(target.view_as(pred)).sum().item()\n",
        "    processed += len(data)\n",
        "\n",
        "    pbar.set_description(desc= f'Loss={loss.item()} Batch_id={batch_idx} Accuracy={100*correct/processed:0.2f}')\n",
        "\n",
        "    pbar.set_description(desc= f'Train: Loss={loss.item():0.4f} Batch_id={batch_idx} Accuracy={100*correct/processed:0.2f}')\n",
        "\n",
        "  train_acc.append(100*correct/processed)\n",
        "  train_losses.append(train_loss/len(train_loader))\n",
        "\n",
        "def test(model, device, test_loader,  criterion ):\n",
        "    model.eval()\n",
        "\n",
        "    test_loss = 0\n",
        "    correct = 0\n",
        "\n",
        "    with torch.no_grad():\n",
        "        for batch_idx, (data, target) in enumerate(test_loader):\n",
        "            data, target = data.to(device), target.to(device)\n",
        "\n",
        "            output = model(data)\n",
        "            test_loss += criterion(output, target).item()  # sum up batch loss\n",
        "\n",
        "            pred = output.argmax(dim=1, keepdim=True)  # get the index of the max log-probability\n",
        "            correct += pred.eq(target.view_as(pred)).sum().item()\n",
        "\n",
        "\n",
        "    test_loss /= len(test_loader.dataset)\n",
        "    test_acc.append(100. * correct / len(test_loader.dataset))\n",
        "    test_losses.append(test_loss)\n",
        "\n",
        "    print('Test set: Average loss: {:.4f}, Accuracy: {}/{} ({:.2f}%)\\n'.format(\n",
        "        test_loss, correct, len(test_loader.dataset),\n",
        "        100. * correct / len(test_loader.dataset)))\n"
      ]
    },
    {
      "cell_type": "code",
      "execution_count": null,
      "metadata": {
        "colab": {
          "base_uri": "https://localhost:8080/"
        },
        "id": "MMWbLWO6FuHb",
        "outputId": "c6c2caff-419c-4d67-c65c-2e198b10a41f"
      },
      "outputs": [
        {
          "output_type": "stream",
          "name": "stdout",
          "text": [
            "Epoch 1\n"
          ]
        },
        {
          "output_type": "stream",
          "name": "stderr",
          "text": [
            "Train: Loss=1.3444 Batch_id=97 Accuracy=40.71: 100%|██████████| 98/98 [00:19<00:00,  4.97it/s]\n"
          ]
        },
        {
          "output_type": "stream",
          "name": "stdout",
          "text": [
            "Test set: Average loss: 0.0030, Accuracy: 4655/10000 (46.55%)\n",
            "\n",
            "Epoch 2\n"
          ]
        },
        {
          "output_type": "stream",
          "name": "stderr",
          "text": [
            "Train: Loss=0.9432 Batch_id=97 Accuracy=58.80: 100%|██████████| 98/98 [00:19<00:00,  4.98it/s]\n"
          ]
        },
        {
          "output_type": "stream",
          "name": "stdout",
          "text": [
            "Test set: Average loss: 0.0019, Accuracy: 6580/10000 (65.80%)\n",
            "\n",
            "Epoch 3\n"
          ]
        },
        {
          "output_type": "stream",
          "name": "stderr",
          "text": [
            "Train: Loss=0.7571 Batch_id=97 Accuracy=69.24: 100%|██████████| 98/98 [00:19<00:00,  4.91it/s]\n"
          ]
        },
        {
          "output_type": "stream",
          "name": "stdout",
          "text": [
            "Test set: Average loss: 0.0016, Accuracy: 7326/10000 (73.26%)\n",
            "\n",
            "Epoch 4\n"
          ]
        },
        {
          "output_type": "stream",
          "name": "stderr",
          "text": [
            "Train: Loss=0.7004 Batch_id=97 Accuracy=75.24: 100%|██████████| 98/98 [00:20<00:00,  4.87it/s]\n"
          ]
        },
        {
          "output_type": "stream",
          "name": "stdout",
          "text": [
            "Test set: Average loss: 0.0013, Accuracy: 7679/10000 (76.79%)\n",
            "\n",
            "Epoch 5\n"
          ]
        },
        {
          "output_type": "stream",
          "name": "stderr",
          "text": [
            "Train: Loss=0.6147 Batch_id=97 Accuracy=78.94: 100%|██████████| 98/98 [00:20<00:00,  4.82it/s]\n"
          ]
        },
        {
          "output_type": "stream",
          "name": "stdout",
          "text": [
            "Test set: Average loss: 0.0012, Accuracy: 8011/10000 (80.11%)\n",
            "\n",
            "Epoch 6\n"
          ]
        },
        {
          "output_type": "stream",
          "name": "stderr",
          "text": [
            "Train: Loss=0.4411 Batch_id=97 Accuracy=81.15: 100%|██████████| 98/98 [00:20<00:00,  4.85it/s]\n"
          ]
        },
        {
          "output_type": "stream",
          "name": "stdout",
          "text": [
            "Test set: Average loss: 0.0010, Accuracy: 8306/10000 (83.06%)\n",
            "\n",
            "Epoch 7\n"
          ]
        },
        {
          "output_type": "stream",
          "name": "stderr",
          "text": [
            "Train: Loss=0.5113 Batch_id=97 Accuracy=82.75: 100%|██████████| 98/98 [00:20<00:00,  4.81it/s]\n"
          ]
        },
        {
          "output_type": "stream",
          "name": "stdout",
          "text": [
            "Test set: Average loss: 0.0009, Accuracy: 8419/10000 (84.19%)\n",
            "\n",
            "Epoch 8\n"
          ]
        },
        {
          "output_type": "stream",
          "name": "stderr",
          "text": [
            "Train: Loss=0.4529 Batch_id=97 Accuracy=84.57: 100%|██████████| 98/98 [00:20<00:00,  4.85it/s]\n"
          ]
        },
        {
          "output_type": "stream",
          "name": "stdout",
          "text": [
            "Test set: Average loss: 0.0009, Accuracy: 8387/10000 (83.87%)\n",
            "\n",
            "Epoch 9\n"
          ]
        },
        {
          "output_type": "stream",
          "name": "stderr",
          "text": [
            "Train: Loss=0.4761 Batch_id=97 Accuracy=85.50: 100%|██████████| 98/98 [00:20<00:00,  4.84it/s]\n"
          ]
        },
        {
          "output_type": "stream",
          "name": "stdout",
          "text": [
            "Test set: Average loss: 0.0008, Accuracy: 8551/10000 (85.51%)\n",
            "\n",
            "Epoch 10\n"
          ]
        },
        {
          "output_type": "stream",
          "name": "stderr",
          "text": [
            "Train: Loss=0.4251 Batch_id=97 Accuracy=86.73: 100%|██████████| 98/98 [00:20<00:00,  4.86it/s]\n"
          ]
        },
        {
          "output_type": "stream",
          "name": "stdout",
          "text": [
            "Test set: Average loss: 0.0009, Accuracy: 8479/10000 (84.79%)\n",
            "\n",
            "Epoch 11\n"
          ]
        },
        {
          "output_type": "stream",
          "name": "stderr",
          "text": [
            "Train: Loss=0.3880 Batch_id=97 Accuracy=87.45: 100%|██████████| 98/98 [00:20<00:00,  4.80it/s]\n"
          ]
        },
        {
          "output_type": "stream",
          "name": "stdout",
          "text": [
            "Test set: Average loss: 0.0008, Accuracy: 8698/10000 (86.98%)\n",
            "\n",
            "Epoch 12\n"
          ]
        },
        {
          "output_type": "stream",
          "name": "stderr",
          "text": [
            "Train: Loss=0.3785 Batch_id=97 Accuracy=88.17: 100%|██████████| 98/98 [00:20<00:00,  4.85it/s]\n"
          ]
        },
        {
          "output_type": "stream",
          "name": "stdout",
          "text": [
            "Test set: Average loss: 0.0007, Accuracy: 8788/10000 (87.88%)\n",
            "\n",
            "Epoch 13\n"
          ]
        },
        {
          "output_type": "stream",
          "name": "stderr",
          "text": [
            "Train: Loss=0.3085 Batch_id=97 Accuracy=88.51: 100%|██████████| 98/98 [00:20<00:00,  4.80it/s]\n"
          ]
        },
        {
          "output_type": "stream",
          "name": "stdout",
          "text": [
            "Test set: Average loss: 0.0007, Accuracy: 8809/10000 (88.09%)\n",
            "\n",
            "Epoch 14\n"
          ]
        },
        {
          "output_type": "stream",
          "name": "stderr",
          "text": [
            "Train: Loss=0.2990 Batch_id=97 Accuracy=89.21: 100%|██████████| 98/98 [00:20<00:00,  4.84it/s]\n"
          ]
        },
        {
          "output_type": "stream",
          "name": "stdout",
          "text": [
            "Test set: Average loss: 0.0007, Accuracy: 8853/10000 (88.53%)\n",
            "\n",
            "Epoch 15\n"
          ]
        },
        {
          "output_type": "stream",
          "name": "stderr",
          "text": [
            "Train: Loss=0.2941 Batch_id=97 Accuracy=89.56: 100%|██████████| 98/98 [00:20<00:00,  4.81it/s]\n"
          ]
        },
        {
          "output_type": "stream",
          "name": "stdout",
          "text": [
            "Test set: Average loss: 0.0007, Accuracy: 8760/10000 (87.60%)\n",
            "\n",
            "Epoch 16\n"
          ]
        },
        {
          "output_type": "stream",
          "name": "stderr",
          "text": [
            "Train: Loss=0.3459 Batch_id=97 Accuracy=89.87: 100%|██████████| 98/98 [00:20<00:00,  4.83it/s]\n"
          ]
        },
        {
          "output_type": "stream",
          "name": "stdout",
          "text": [
            "Test set: Average loss: 0.0007, Accuracy: 8797/10000 (87.97%)\n",
            "\n",
            "Epoch 17\n"
          ]
        },
        {
          "output_type": "stream",
          "name": "stderr",
          "text": [
            "Train: Loss=0.3095 Batch_id=97 Accuracy=90.31: 100%|██████████| 98/98 [00:20<00:00,  4.78it/s]\n"
          ]
        },
        {
          "output_type": "stream",
          "name": "stdout",
          "text": [
            "Test set: Average loss: 0.0006, Accuracy: 8911/10000 (89.11%)\n",
            "\n",
            "Epoch 18\n"
          ]
        },
        {
          "output_type": "stream",
          "name": "stderr",
          "text": [
            "Train: Loss=0.3221 Batch_id=97 Accuracy=90.41: 100%|██████████| 98/98 [00:20<00:00,  4.82it/s]\n"
          ]
        },
        {
          "output_type": "stream",
          "name": "stdout",
          "text": [
            "Test set: Average loss: 0.0006, Accuracy: 8980/10000 (89.80%)\n",
            "\n",
            "Epoch 19\n"
          ]
        },
        {
          "output_type": "stream",
          "name": "stderr",
          "text": [
            "Train: Loss=0.2742 Batch_id=97 Accuracy=91.00: 100%|██████████| 98/98 [00:20<00:00,  4.80it/s]\n"
          ]
        },
        {
          "output_type": "stream",
          "name": "stdout",
          "text": [
            "Test set: Average loss: 0.0006, Accuracy: 8923/10000 (89.23%)\n",
            "\n",
            "Epoch 20\n"
          ]
        },
        {
          "output_type": "stream",
          "name": "stderr",
          "text": [
            "Train: Loss=0.2571 Batch_id=97 Accuracy=91.15: 100%|██████████| 98/98 [00:20<00:00,  4.82it/s]\n"
          ]
        },
        {
          "output_type": "stream",
          "name": "stdout",
          "text": [
            "Test set: Average loss: 0.0006, Accuracy: 8927/10000 (89.27%)\n",
            "\n",
            "Epoch 21\n"
          ]
        },
        {
          "output_type": "stream",
          "name": "stderr",
          "text": [
            "Train: Loss=0.3378 Batch_id=97 Accuracy=90.97: 100%|██████████| 98/98 [00:20<00:00,  4.80it/s]\n"
          ]
        },
        {
          "output_type": "stream",
          "name": "stdout",
          "text": [
            "Test set: Average loss: 0.0006, Accuracy: 8943/10000 (89.43%)\n",
            "\n",
            "Epoch 22\n"
          ]
        },
        {
          "output_type": "stream",
          "name": "stderr",
          "text": [
            "Train: Loss=0.2773 Batch_id=97 Accuracy=91.54: 100%|██████████| 98/98 [00:20<00:00,  4.86it/s]\n"
          ]
        },
        {
          "output_type": "stream",
          "name": "stdout",
          "text": [
            "Test set: Average loss: 0.0006, Accuracy: 8981/10000 (89.81%)\n",
            "\n",
            "Epoch 23\n"
          ]
        },
        {
          "output_type": "stream",
          "name": "stderr",
          "text": [
            "Train: Loss=0.2921 Batch_id=97 Accuracy=91.99: 100%|██████████| 98/98 [00:20<00:00,  4.73it/s]\n"
          ]
        },
        {
          "output_type": "stream",
          "name": "stdout",
          "text": [
            "Test set: Average loss: 0.0006, Accuracy: 9002/10000 (90.02%)\n",
            "\n",
            "Epoch 24\n"
          ]
        },
        {
          "output_type": "stream",
          "name": "stderr",
          "text": [
            "Train: Loss=0.3295 Batch_id=97 Accuracy=91.86: 100%|██████████| 98/98 [00:20<00:00,  4.69it/s]\n"
          ]
        },
        {
          "output_type": "stream",
          "name": "stdout",
          "text": [
            "Test set: Average loss: 0.0006, Accuracy: 8970/10000 (89.70%)\n",
            "\n"
          ]
        }
      ],
      "source": [
        "model = Custom_Res_Net().to(device)\n",
        "criterion = nn.CrossEntropyLoss()\n",
        "num_epochs = 24\n",
        "ler_rate = 0.009297318105416816\n",
        "optimizer = optim.Adam(model.parameters(), lr=0.00005, weight_decay=1e-4)\n",
        "scheduler = OneCycleLR(\n",
        "        optimizer,\n",
        "        max_lr= ler_rate,\n",
        "        steps_per_epoch=len(train_loader),\n",
        "        epochs=num_epochs,\n",
        "        pct_start=5/num_epochs,\n",
        "        div_factor=10,\n",
        "        three_phase=False,\n",
        "        final_div_factor=10,\n",
        "        anneal_strategy='linear'\n",
        "    )\n",
        "for epoch in range(num_epochs):\n",
        "    print(f'Epoch {epoch+1}')\n",
        "    train(model, device, train_loader, optimizer, criterion, epoch)\n",
        "    scheduler.step()\n",
        "    test(model, device, test_loader, criterion)"
      ]
    },
    {
      "cell_type": "code",
      "source": [
        "#epoch 5  Accuracy=54.67 , 60.59%"
      ],
      "metadata": {
        "id": "7WbB0YQg7a2t"
      },
      "execution_count": null,
      "outputs": []
    },
    {
      "cell_type": "code",
      "source": [],
      "metadata": {
        "id": "LYvXJazKGXFF"
      },
      "execution_count": null,
      "outputs": []
    },
    {
      "cell_type": "code",
      "execution_count": null,
      "metadata": {
        "colab": {
          "base_uri": "https://localhost:8080/",
          "height": 853
        },
        "id": "So5uk4EkHW6R",
        "outputId": "e116ab89-3fd7-4db2-f312-3c55935925dd"
      },
      "outputs": [
        {
          "output_type": "display_data",
          "data": {
            "text/plain": [
              "<Figure size 1500x1000 with 4 Axes>"
            ],
            "image/png": "[encoded data removed]"
          },
          "metadata": {}
        }
      ],
      "source": [
        "#train_losses_lst = [t_items.item() for t_items in train_losses]\n",
        "plot_performance(train_losses, train_acc, test_losses, test_acc)"
      ]
    },
    {
      "cell_type": "code",
      "execution_count": null,
      "metadata": {
        "id": "87z1Vh70dEKE"
      },
      "outputs": [],
      "source": [
        "model.eval()\n",
        "test_loss = 0\n",
        "correct = 0\n",
        "i =0\n",
        "misclassified_dict = []\n",
        "with torch.no_grad():\n",
        "    for data, target in test_loader:\n",
        "        data, target = data.to(device), target.to(device)\n",
        "        output = model(data)\n",
        "        #test_loss += nn.CrossEntropyLoss(output, target, reduction='sum').item()  # sum up batch loss\n",
        "        pred = output.argmax(dim=1, keepdim=True)  # get the index of the max log-probability\n",
        "        t = pred.eq(target.view_as(pred)).view(-1, target.size(0))\n",
        "        t = t.cpu().numpy().reshape(-1)\n",
        "        for ind,val in enumerate(t):\n",
        "          if not val :\n",
        "            temp_dict = {}\n",
        "            temp_dict['data'] = data[ind].cpu().numpy()\n",
        "            temp_dict['target'] = target[ind]\n",
        "            temp_dict['pred'] = pred[ind]\n",
        "            misclassified_dict.append(temp_dict)"
      ]
    },
    {
      "cell_type": "code",
      "source": [
        "classes = ['plane', 'car', 'bird', 'cat', 'deer', 'dog', 'frog', 'horse', 'ship', 'truck']\n",
        "display_images = misclassified_dict[:10]\n",
        "index = 0\n",
        "fig = plt.figure(figsize=(10,5))\n",
        "for img in display_images:\n",
        "    image = img['data']\n",
        "    pred = classes[img['pred']]\n",
        "    actual = classes[img['target']]\n",
        "    ax = fig.add_subplot(2, 5, index+1)\n",
        "    ax.axis('off')\n",
        "    ax.set_title(f'\\n Predicted Label : {pred} \\n Target Label : {actual}',fontsize=10)\n",
        "    ax.imshow(np.transpose(image, (1, 2, 0)))\n",
        "    index = index + 1\n",
        "plt.show()"
      ],
      "metadata": {
        "colab": {
          "base_uri": "https://localhost:8080/",
          "height": 611
        },
        "id": "RG0q7x3ZNFu6",
        "outputId": "919cfca4-5aec-4e11-ab0c-5c7249e459af"
      },
      "execution_count": null,
      "outputs": [
        {
          "output_type": "stream",
          "name": "stderr",
          "text": [
            "WARNING:matplotlib.image:Clipping input data to the valid range for imshow with RGB data ([0..1] for floats or [0..255] for integers).\n",
            "WARNING:matplotlib.image:Clipping input data to the valid range for imshow with RGB data ([0..1] for floats or [0..255] for integers).\n",
            "WARNING:matplotlib.image:Clipping input data to the valid range for imshow with RGB data ([0..1] for floats or [0..255] for integers).\n",
            "WARNING:matplotlib.image:Clipping input data to the valid range for imshow with RGB data ([0..1] for floats or [0..255] for integers).\n",
            "WARNING:matplotlib.image:Clipping input data to the valid range for imshow with RGB data ([0..1] for floats or [0..255] for integers).\n",
            "WARNING:matplotlib.image:Clipping input data to the valid range for imshow with RGB data ([0..1] for floats or [0..255] for integers).\n",
            "WARNING:matplotlib.image:Clipping input data to the valid range for imshow with RGB data ([0..1] for floats or [0..255] for integers).\n",
            "WARNING:matplotlib.image:Clipping input data to the valid range for imshow with RGB data ([0..1] for floats or [0..255] for integers).\n",
            "WARNING:matplotlib.image:Clipping input data to the valid range for imshow with RGB data ([0..1] for floats or [0..255] for integers).\n",
            "WARNING:matplotlib.image:Clipping input data to the valid range for imshow with RGB data ([0..1] for floats or [0..255] for integers).\n"
          ]
        },
        {
          "output_type": "display_data",
          "data": {
            "text/plain": [
              "<Figure size 1000x500 with 10 Axes>"
            ],
            "image/png": "[encoded data removed]"
          },
          "metadata": {}
        }
      ]
    },
    {
      "cell_type": "code",
      "execution_count": null,
      "metadata": {
        "id": "VCbwXFdIjhoa"
      },
      "outputs": [],
      "source": []
    }
  ],
  "metadata": {
    "accelerator": "GPU",
    "colab": {
      "gpuType": "T4",
      "provenance": []
    },
    "kernelspec": {
      "display_name": "Python 3",
      "name": "python3"
    },
    "widgets": {
      "application/vnd.jupyter.widget-state+json": {
        "765a6dd569d544b599468db1d247503b": {
          "model_module": "@jupyter-widgets/controls",
          "model_name": "HBoxModel",
          "model_module_version": "1.5.0",
          "state": {
            "_dom_classes": [],
            "_model_module": "@jupyter-widgets/controls",
            "_model_module_version": "1.5.0",
            "_model_name": "HBoxModel",
            "_view_count": null,
            "_view_module": "@jupyter-widgets/controls",
            "_view_module_version": "1.5.0",
            "_view_name": "HBoxView",
            "box_style": "",
            "children": [
              "IPY_MODEL_35e68d279d7b44ab848e747eaa3feb72",
              "IPY_MODEL_be615f65bec84d4c82994373c00f8b5d",
              "IPY_MODEL_14c835e9df80423d88a166d698bc488d"
            ],
            "layout": "IPY_MODEL_2ec22148258d4651bf9dbbd4b75de569"
          }
        },
        "35e68d279d7b44ab848e747eaa3feb72": {
          "model_module": "@jupyter-widgets/controls",
          "model_name": "HTMLModel",
          "model_module_version": "1.5.0",
          "state": {
            "_dom_classes": [],
            "_model_module": "@jupyter-widgets/controls",
            "_model_module_version": "1.5.0",
            "_model_name": "HTMLModel",
            "_view_count": null,
            "_view_module": "@jupyter-widgets/controls",
            "_view_module_version": "1.5.0",
            "_view_name": "HTMLView",
            "description": "",
            "description_tooltip": null,
            "layout": "IPY_MODEL_4d94aa0852c544fb99b4124348fa4d1b",
            "placeholder": "​",
            "style": "IPY_MODEL_74532c684f8e4598ab9a6e0367c21141",
            "value": "100%"
          }
        },
        "be615f65bec84d4c82994373c00f8b5d": {
          "model_module": "@jupyter-widgets/controls",
          "model_name": "FloatProgressModel",
          "model_module_version": "1.5.0",
          "state": {
            "_dom_classes": [],
            "_model_module": "@jupyter-widgets/controls",
            "_model_module_version": "1.5.0",
            "_model_name": "FloatProgressModel",
            "_view_count": null,
            "_view_module": "@jupyter-widgets/controls",
            "_view_module_version": "1.5.0",
            "_view_name": "ProgressView",
            "bar_style": "success",
            "description": "",
            "description_tooltip": null,
            "layout": "IPY_MODEL_9849df2778ea412ea415f9573ed1d643",
            "max": 200,
            "min": 0,
            "orientation": "horizontal",
            "style": "IPY_MODEL_6befe7bba7c24725be699b8e1f95852b",
            "value": 200
          }
        },
        "14c835e9df80423d88a166d698bc488d": {
          "model_module": "@jupyter-widgets/controls",
          "model_name": "HTMLModel",
          "model_module_version": "1.5.0",
          "state": {
            "_dom_classes": [],
            "_model_module": "@jupyter-widgets/controls",
            "_model_module_version": "1.5.0",
            "_model_name": "HTMLModel",
            "_view_count": null,
            "_view_module": "@jupyter-widgets/controls",
            "_view_module_version": "1.5.0",
            "_view_name": "HTMLView",
            "description": "",
            "description_tooltip": null,
            "layout": "IPY_MODEL_ce87a04afd8b445992b4c516028eb838",
            "placeholder": "​",
            "style": "IPY_MODEL_ef7a0bafe71742e7bdf87a7dd18df6af",
            "value": " 200/200 [00:42&lt;00:00,  3.96it/s]"
          }
        },
        "2ec22148258d4651bf9dbbd4b75de569": {
          "model_module": "@jupyter-widgets/base",
          "model_name": "LayoutModel",
          "model_module_version": "1.2.0",
          "state": {
            "_model_module": "@jupyter-widgets/base",
            "_model_module_version": "1.2.0",
            "_model_name": "LayoutModel",
            "_view_count": null,
            "_view_module": "@jupyter-widgets/base",
            "_view_module_version": "1.2.0",
            "_view_name": "LayoutView",
            "align_content": null,
            "align_items": null,
            "align_self": null,
            "border": null,
            "bottom": null,
            "display": null,
            "flex": null,
            "flex_flow": null,
            "grid_area": null,
            "grid_auto_columns": null,
            "grid_auto_flow": null,
            "grid_auto_rows": null,
            "grid_column": null,
            "grid_gap": null,
            "grid_row": null,
            "grid_template_areas": null,
            "grid_template_columns": null,
            "grid_template_rows": null,
            "height": null,
            "justify_content": null,
            "justify_items": null,
            "left": null,
            "margin": null,
            "max_height": null,
            "max_width": null,
            "min_height": null,
            "min_width": null,
            "object_fit": null,
            "object_position": null,
            "order": null,
            "overflow": null,
            "overflow_x": null,
            "overflow_y": null,
            "padding": null,
            "right": null,
            "top": null,
            "visibility": null,
            "width": null
          }
        },
        "4d94aa0852c544fb99b4124348fa4d1b": {
          "model_module": "@jupyter-widgets/base",
          "model_name": "LayoutModel",
          "model_module_version": "1.2.0",
          "state": {
            "_model_module": "@jupyter-widgets/base",
            "_model_module_version": "1.2.0",
            "_model_name": "LayoutModel",
            "_view_count": null,
            "_view_module": "@jupyter-widgets/base",
            "_view_module_version": "1.2.0",
            "_view_name": "LayoutView",
            "align_content": null,
            "align_items": null,
            "align_self": null,
            "border": null,
            "bottom": null,
            "display": null,
            "flex": null,
            "flex_flow": null,
            "grid_area": null,
            "grid_auto_columns": null,
            "grid_auto_flow": null,
            "grid_auto_rows": null,
            "grid_column": null,
            "grid_gap": null,
            "grid_row": null,
            "grid_template_areas": null,
            "grid_template_columns": null,
            "grid_template_rows": null,
            "height": null,
            "justify_content": null,
            "justify_items": null,
            "left": null,
            "margin": null,
            "max_height": null,
            "max_width": null,
            "min_height": null,
            "min_width": null,
            "object_fit": null,
            "object_position": null,
            "order": null,
            "overflow": null,
            "overflow_x": null,
            "overflow_y": null,
            "padding": null,
            "right": null,
            "top": null,
            "visibility": null,
            "width": null
          }
        },
        "74532c684f8e4598ab9a6e0367c21141": {
          "model_module": "@jupyter-widgets/controls",
          "model_name": "DescriptionStyleModel",
          "model_module_version": "1.5.0",
          "state": {
            "_model_module": "@jupyter-widgets/controls",
            "_model_module_version": "1.5.0",
            "_model_name": "DescriptionStyleModel",
            "_view_count": null,
            "_view_module": "@jupyter-widgets/base",
            "_view_module_version": "1.2.0",
            "_view_name": "StyleView",
            "description_width": ""
          }
        },
        "9849df2778ea412ea415f9573ed1d643": {
          "model_module": "@jupyter-widgets/base",
          "model_name": "LayoutModel",
          "model_module_version": "1.2.0",
          "state": {
            "_model_module": "@jupyter-widgets/base",
            "_model_module_version": "1.2.0",
            "_model_name": "LayoutModel",
            "_view_count": null,
            "_view_module": "@jupyter-widgets/base",
            "_view_module_version": "1.2.0",
            "_view_name": "LayoutView",
            "align_content": null,
            "align_items": null,
            "align_self": null,
            "border": null,
            "bottom": null,
            "display": null,
            "flex": null,
            "flex_flow": null,
            "grid_area": null,
            "grid_auto_columns": null,
            "grid_auto_flow": null,
            "grid_auto_rows": null,
            "grid_column": null,
            "grid_gap": null,
            "grid_row": null,
            "grid_template_areas": null,
            "grid_template_columns": null,
            "grid_template_rows": null,
            "height": null,
            "justify_content": null,
            "justify_items": null,
            "left": null,
            "margin": null,
            "max_height": null,
            "max_width": null,
            "min_height": null,
            "min_width": null,
            "object_fit": null,
            "object_position": null,
            "order": null,
            "overflow": null,
            "overflow_x": null,
            "overflow_y": null,
            "padding": null,
            "right": null,
            "top": null,
            "visibility": null,
            "width": null
          }
        },
        "6befe7bba7c24725be699b8e1f95852b": {
          "model_module": "@jupyter-widgets/controls",
          "model_name": "ProgressStyleModel",
          "model_module_version": "1.5.0",
          "state": {
            "_model_module": "@jupyter-widgets/controls",
            "_model_module_version": "1.5.0",
            "_model_name": "ProgressStyleModel",
            "_view_count": null,
            "_view_module": "@jupyter-widgets/base",
            "_view_module_version": "1.2.0",
            "_view_name": "StyleView",
            "bar_color": null,
            "description_width": ""
          }
        },
        "ce87a04afd8b445992b4c516028eb838": {
          "model_module": "@jupyter-widgets/base",
          "model_name": "LayoutModel",
          "model_module_version": "1.2.0",
          "state": {
            "_model_module": "@jupyter-widgets/base",
            "_model_module_version": "1.2.0",
            "_model_name": "LayoutModel",
            "_view_count": null,
            "_view_module": "@jupyter-widgets/base",
            "_view_module_version": "1.2.0",
            "_view_name": "LayoutView",
            "align_content": null,
            "align_items": null,
            "align_self": null,
            "border": null,
            "bottom": null,
            "display": null,
            "flex": null,
            "flex_flow": null,
            "grid_area": null,
            "grid_auto_columns": null,
            "grid_auto_flow": null,
            "grid_auto_rows": null,
            "grid_column": null,
            "grid_gap": null,
            "grid_row": null,
            "grid_template_areas": null,
            "grid_template_columns": null,
            "grid_template_rows": null,
            "height": null,
            "justify_content": null,
            "justify_items": null,
            "left": null,
            "margin": null,
            "max_height": null,
            "max_width": null,
            "min_height": null,
            "min_width": null,
            "object_fit": null,
            "object_position": null,
            "order": null,
            "overflow": null,
            "overflow_x": null,
            "overflow_y": null,
            "padding": null,
            "right": null,
            "top": null,
            "visibility": null,
            "width": null
          }
        },
        "ef7a0bafe71742e7bdf87a7dd18df6af": {
          "model_module": "@jupyter-widgets/controls",
          "model_name": "DescriptionStyleModel",
          "model_module_version": "1.5.0",
          "state": {
            "_model_module": "@jupyter-widgets/controls",
            "_model_module_version": "1.5.0",
            "_model_name": "DescriptionStyleModel",
            "_view_count": null,
            "_view_module": "@jupyter-widgets/base",
            "_view_module_version": "1.2.0",
            "_view_name": "StyleView",
            "description_width": ""
          }
        }
      }
    }
  },
  "nbformat": 4,
  "nbformat_minor": 0
}